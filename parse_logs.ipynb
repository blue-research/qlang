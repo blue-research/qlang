{
 "cells": [
  {
   "cell_type": "code",
   "execution_count": 18,
   "id": "51590e56-d0b3-45b4-be79-98f80dce44a6",
   "metadata": {},
   "outputs": [],
   "source": [
    "import matplotlib as plt\n",
    "import ast\n",
    "import numpy as np"
   ]
  },
  {
   "cell_type": "code",
   "execution_count": 14,
   "id": "074e084d-5344-4912-8bef-d849e3218787",
   "metadata": {},
   "outputs": [],
   "source": [
    "def parse_logs(rewriter, ansatz):\n",
    "    logfile=f\"./logs/10_31_02:28/{ansatz}_{rewriter}.log\"\n",
    "    with open(logfile) as f:\n",
    "        f.readline()\n",
    "        f.readline()\n",
    "        train_losses=f.readline().strip()\n",
    "        train_losses = ast.literal_eval(train_losses)\n",
    "        f.readline()\n",
    "        val_losses=f.readline().strip()\n",
    "        val_losses = ast.literal_eval(val_losses)\n",
    "        f.readline()\n",
    "        train_acc=f.readline().strip()\n",
    "        train_acc = ast.literal_eval(train_acc)\n",
    "        f.readline()\n",
    "        val_acc=f.readline().strip()\n",
    "        val_acc = ast.literal_eval(val_acc)\n",
    "    return train_losses,train_acc,val_losses,val_acc"
   ]
  },
  {
   "cell_type": "code",
   "execution_count": 19,
   "id": "bec08b6a-cdfc-4e50-b1d8-2496571ab5ea",
   "metadata": {},
   "outputs": [
    {
     "data": {
      "text/plain": [
       "(1.2782435890736348, 0.64, 1.6914993661288793, 0.5816666666666667)"
      ]
     },
     "execution_count": 19,
     "metadata": {},
     "output_type": "execute_result"
    }
   ],
   "source": [
    "def calculate_mean_loss_acc(rewriter, ansatz):\n",
    "    train_losses,train_acc,val_losses,val_acc=parse_logs(rewriter,ansatz)\n",
    "    return np.mean(train_losses[-10:]),np.mean(train_acc[-10:]),np.mean(val_losses[-10:]),np.mean(val_acc[-10:])\n",
    "calculate_mean_loss_acc(\"re\",\"IQPAnsatz\")"
   ]
  },
  {
   "cell_type": "code",
   "execution_count": 23,
   "id": "f1874091-1202-4374-a19f-5a29f41676ef",
   "metadata": {},
   "outputs": [
    {
     "name": "stdout",
     "output_type": "stream",
     "text": [
      "\n",
      "Rewriter:  re\n",
      "Ansatz:  IQPAnsatz\n",
      "(1.2782435890736348, 0.64, 1.6914993661288793, 0.5816666666666667)\n",
      "Ansatz:  StronglyEntanglingAnsatz\n",
      "(1.7489887171351988, 0.5721428571428572, 1.8369887701740915, 0.4966666666666667)\n",
      "Ansatz:  Sim14Ansatz\n",
      "(1.530561858977722, 0.5657142857142856, 2.021770880609254, 0.5983333333333333)\n",
      "Ansatz:  Sim15Ansatz\n",
      "(1.818358619060532, 0.6371428571428571, 1.86034809558473, 0.6250000000000001)\n",
      "\n",
      "Rewriter:  re_norm\n",
      "Ansatz:  IQPAnsatz\n",
      "(0.7649545481262502, 0.5007142857142857, 0.6640575056691999, 0.545)\n",
      "Ansatz:  StronglyEntanglingAnsatz\n",
      "(1.8594463385992832, 0.5257142857142857, 1.911507549689396, 0.49333333333333335)\n",
      "Ansatz:  Sim14Ansatz\n",
      "(1.8651845061760972, 0.5471428571428572, 1.7377013141008408, 0.5483333333333332)\n",
      "Ansatz:  Sim15Ansatz\n",
      "(1.9754297304638022, 0.5942857142857143, 2.401985395210658, 0.5133333333333334)\n",
      "\n",
      "Rewriter:  re_norm_cur\n",
      "Ansatz:  IQPAnsatz\n",
      "(1.6930821351279957, 0.5678571428571428, 1.7881020863543788, 0.505)\n",
      "Ansatz:  StronglyEntanglingAnsatz\n",
      "(2.474081049723923, 0.5321428571428573, 1.9152369900463377, 0.5116666666666666)\n",
      "Ansatz:  Sim14Ansatz\n",
      "(2.8814760304729097, 0.5078571428571428, 2.845241067682255, 0.5333333333333334)\n",
      "Ansatz:  Sim15Ansatz\n",
      "(2.299812416487007, 0.5342857142857143, 3.0126990556432807, 0.5566666666666666)\n",
      "\n",
      "Rewriter:  re_norm_cur_norm\n",
      "Ansatz:  IQPAnsatz\n",
      "(0.09160230656913651, 0.9985714285714286, 0.08010482525996743, 0.9666666666666666)\n",
      "Ansatz:  StronglyEntanglingAnsatz\n",
      "(0.20379665356780857, 0.945, 0.22839044358980906, 0.9333333333333333)\n",
      "Ansatz:  Sim14Ansatz\n",
      "(0.12472538945701654, 0.9878571428571428, 0.0930661091595471, 1.0)\n",
      "Ansatz:  Sim15Ansatz\n",
      "(0.1714338587465807, 0.9671428571428573, 0.18237873121514203, 0.97)\n"
     ]
    }
   ],
   "source": [
    "rewriters = [\"re\", \"re_norm\", \"re_norm_cur\", \"re_norm_cur_norm\"]\n",
    "ansatzes = [\n",
    "    \"IQPAnsatz\",\n",
    "    \"StronglyEntanglingAnsatz\",\n",
    "    \"Sim14Ansatz\",\n",
    "    \"Sim15Ansatz\"\n",
    "]\n",
    "for rewriter in rewriters:\n",
    "    print(\"\\nRewriter: \",rewriter)\n",
    "    for ansatz in ansatzes:\n",
    "        print(\"Ansatz: \",ansatz)\n",
    "        print(calculate_mean_loss_acc(rewriter,ansatz))"
   ]
  },
  {
   "cell_type": "code",
   "execution_count": null,
   "id": "9af6e743-e8c8-4830-bfaa-06889a20ef8a",
   "metadata": {},
   "outputs": [],
   "source": []
  }
 ],
 "metadata": {
  "kernelspec": {
   "display_name": "my_env",
   "language": "python",
   "name": "my_env"
  },
  "language_info": {
   "codemirror_mode": {
    "name": "ipython",
    "version": 3
   },
   "file_extension": ".py",
   "mimetype": "text/x-python",
   "name": "python",
   "nbconvert_exporter": "python",
   "pygments_lexer": "ipython3",
   "version": "3.11.5"
  }
 },
 "nbformat": 4,
 "nbformat_minor": 5
}
